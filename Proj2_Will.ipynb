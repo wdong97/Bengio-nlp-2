{
 "cells": [
  {
   "cell_type": "markdown",
   "metadata": {},
   "source": [
    "# Quesiton 1 - Data Loading and Cleaning"
   ]
  },
  {
   "cell_type": "code",
   "execution_count": 1,
   "metadata": {},
   "outputs": [],
   "source": [
    "#get data to list\n",
    "def turnToList(string):  \n",
    "    f = open(string, 'r')\n",
    "    x = f.readlines()\n",
    "    #print(x)\n",
    "    articleVocab = x[0]\n",
    "    ls = articleVocab.split(\"', '\")\n",
    "    return ls"
   ]
  },
  {
   "cell_type": "code",
   "execution_count": 2,
   "metadata": {},
   "outputs": [],
   "source": [
    "training_data = turnToList(\"Data/group1.train.txt\")"
   ]
  },
  {
   "cell_type": "code",
   "execution_count": 3,
   "metadata": {},
   "outputs": [],
   "source": [
    "import math\n",
    "\n",
    "def makeBatches(data,batch_size):\n",
    "    cuts = len(data)/batch_size\n",
    "    cuts = math.ceil(cuts)\n",
    "    final_list = [data[i:i+cuts] for i in range(0,len(data),cuts)]\n",
    "    return final_list\n",
    "    "
   ]
  },
  {
   "cell_type": "code",
   "execution_count": 4,
   "metadata": {},
   "outputs": [],
   "source": [
    "bitches = makeBatches(training_data, 30)"
   ]
  },
  {
   "cell_type": "code",
   "execution_count": 5,
   "metadata": {},
   "outputs": [
    {
     "name": "stdout",
     "output_type": "stream",
     "text": [
      "156473\n"
     ]
    }
   ],
   "source": [
    "print(len(bitches[28]))"
   ]
  },
  {
   "cell_type": "code",
   "execution_count": 6,
   "metadata": {},
   "outputs": [],
   "source": [
    "def sliding_windows(batch,n):\n",
    "    window = [batch[i:i+n] for i in range(0,len(batch))]\n",
    "    return window"
   ]
  },
  {
   "cell_type": "code",
   "execution_count": 7,
   "metadata": {},
   "outputs": [],
   "source": [
    "batch1 = bitches[1]\n",
    "w1 = sliding_windows(batch1,5)\n",
    "batch2 = bitches[2]\n",
    "w2 = sliding_windows(batch2,5)"
   ]
  },
  {
   "cell_type": "code",
   "execution_count": 9,
   "metadata": {},
   "outputs": [],
   "source": [
    "#question 1 output\n",
    "training_sequences = {}\n",
    "training_sequences['Batch 1'] = [w1[i] for i in range(0,3)]\n",
    "training_sequences['Batch 2'] = [w2[i] for i in range(0,3)]"
   ]
  },
  {
   "cell_type": "code",
   "execution_count": 10,
   "metadata": {},
   "outputs": [
    {
     "name": "stdout",
     "output_type": "stream",
     "text": [
      "{'Batch 1': [['the', 'rich', '.', '</s>', '<s>'], ['rich', '.', '</s>', '<s>', 'By'], ['.', '</s>', '<s>', 'By', '2018']], 'Batch 2': [['to', 'strike', 'Soleimani', ',', 'who'], ['strike', 'Soleimani', ',', 'who', 'was'], ['Soleimani', ',', 'who', 'was', 'visiting']]}\n"
     ]
    }
   ],
   "source": [
    "print(training_sequences)"
   ]
  },
  {
   "cell_type": "markdown",
   "metadata": {},
   "source": [
    "## Question 2 - Bengio Model"
   ]
  },
  {
   "cell_type": "code",
   "execution_count": 77,
   "metadata": {},
   "outputs": [],
   "source": [
    "from __future__ import absolute_import\n",
    "from __future__ import division\n",
    "from __future__ import print_function\n",
    "\n",
    "import numpy as np\n",
    "# import tensorflow as tf\n",
    "import tensorflow.compat.v1 as tf\n",
    "tf.disable_v2_behavior()\n",
    "import random\n",
    "import math\n",
    "import time"
   ]
  },
  {
   "cell_type": "code",
   "execution_count": 78,
   "metadata": {},
   "outputs": [],
   "source": [
    "#bring in pickle file for vocab dict\n",
    "import pickle\n",
    "\n",
    "file = open('Data/trainingDictPickle1_group1.pkl','rb')\n",
    "vocab_dict = pickle.load(file)\n",
    "file.close()"
   ]
  },
  {
   "cell_type": "code",
   "execution_count": 79,
   "metadata": {},
   "outputs": [],
   "source": [
    "class Parameters():\n",
    "    def __init__(self, vocab_dict):\n",
    "        self.window_size = 5\n",
    "        self.num_batches = 30\n",
    "\n",
    "        self.vocab_size = len(vocab_dict)\n",
    "\n",
    "        self.hidden_units = 50\n",
    "        self.embeddings_dim = 60\n",
    "        self.num_epochs = 20\n",
    "\n",
    "        self.learning_rate = 0.5\n",
    "\n",
    "        self.gpu_mem = 0.25\n",
    "\n",
    "        self.tf_precision = tf.float32\n",
    "        self.np_precision = np.float32\n",
    "\n",
    "        self.init_scale = 0.5\n",
    "        self.max_grad = 10.0"
   ]
  },
  {
   "cell_type": "code",
   "execution_count": 80,
   "metadata": {},
   "outputs": [],
   "source": [
    "class Model(object):\n",
    "    def __init__(self, params=Parameters(vocab_dict)):\n",
    "        #initialize input and output variables\n",
    "        self._y = tf.placeholder(dtype=params.tf_precision,shape=(params.num_batches, params.vocab_size),name=\"Y\")\n",
    "        self._x = tf.placeholder(tf.int32,shape=(params.num_batches, params.window_size),name=\"X\")\n",
    "        #word features/embeddings\n",
    "        self.C = tf.Variable(tf.truncated_normal(shape=(params.vocab_size, params.embeddings_dim),mean=-1,stddev=-1),dtype=params.tf_precision,name=\"C\")\n",
    "        #projection to output weight\n",
    "        self.W = tf.Variable(tf.random_normal(shape=(params.vocab_size, (params.window_size) * params.embeddings_dim)),dtype=params.tf_precision,name=\"W\")\n",
    "        #hidden layer weight and bias\n",
    "        self.H = tf.Variable(tf.random_normal(shape=(params.hidden_units, (params.window_size) * params.embeddings_dim)),dtype=params.tf_precision,name=\"H\")\n",
    "        self.d = tf.Variable(tf.random_normal(shape=(params.hidden_units,)),dtype=params.tf_precision,name=\"d\")\n",
    "        #hidden layer to output weight and bias\n",
    "        self.U = tf.Variable(tf.random_normal((params.vocab_size, params.hidden_units)),name=\"U\",dtype=params.tf_precision)\n",
    "        self.b = tf.Variable(tf.random_normal(shape=(params.vocab_size, )),dtype=params.tf_precision,name=\"b\")\n",
    "        #do calculations\n",
    "        # y = b + Wx + Utanh(d + Hx)\n",
    "        # x = (C(w(t-1)), C(w(t-2), ..., C(w(t-n+1))), n == window_size\n",
    "        with tf.name_scope('Projection_Layer'):\n",
    "            x  = tf.nn.embedding_lookup(self.C, self._x) # (batch_size, window_size-1, emb_dim)\n",
    "            x  = tf.reshape(x, shape=(params.num_batches, (params.window_size) * params.embeddings_dim))\n",
    "        with tf.name_scope('Hidden_Layer'):\n",
    "            Hx = tf.matmul(x, tf.transpose(self.H)) # (batch_size, hidden_size)\n",
    "            o  = tf.add(self.d, Hx) # (batch_size, hidden_size)\n",
    "            a  = tf.nn.tanh(o)  # (batch_size, hidden_size)\n",
    "        with tf.name_scope('Output_Layer'):\n",
    "            Ua = tf.matmul(a, tf.transpose(self.U)) # (batch_size, vocab_size)\n",
    "            Wx = tf.matmul(x, tf.transpose(self.W)) # (batch_size, vocab_size)\n",
    "            y_hat  = tf.nn.softmax(tf.clip_by_value(tf.add(self.b, tf.add(Wx, Ua)), 0.0, 10)) # (batch_size, vocab_size)\n",
    "    #2 different ways to minimize loss/cost\n",
    "        with tf.name_scope('Cost'):\n",
    "            self.cost = tf.reduce_mean(tf.nn.softmax_cross_entropy_with_logits_v2(labels=self._y,logits=y_hat))\n",
    "            self.perplexity = tf.exp(self.cost)\n",
    "        self.optimizer = tf.train.GradientDescentOptimizer(params.learning_rate).minimize(self.cost)\n",
    "    #loss function defined from github repo\n",
    "    '''\n",
    "        with tf.name_scope('Loss'):\n",
    "            onehot_tgt = tf.one_hot(tf.squeeze(self._y), params.vocab_size)  # (batch_size, vocab_size)\n",
    "            loss = -1 * tf.reduce_mean(tf.reduce_sum(tf.log(y) * onehot_tgt, 1)) # 乘 -1 -> maximize loss\n",
    "            print(loss)\n",
    "        \n",
    "        optimizer = tf.train.AdagradOptimizer(params.learning_rate).minimize(loss)\n",
    "        '''\n"
   ]
  },
  {
   "cell_type": "code",
   "execution_count": 101,
   "metadata": {},
   "outputs": [],
   "source": [
    "def run_model(model,params,integer_batches):\n",
    "    #initialize and do GPU stuff\n",
    "    gpu_options = tf.GPUOptions(per_process_gpu_memory_fraction=0.8)\n",
    "    \n",
    "    #get lists to hold perplexity and cost graphs\n",
    "    perplexity_history = []\n",
    "    cost_history = []\n",
    "\n",
    "    with tf.Session(config=tf.ConfigProto(gpu_options=gpu_options, log_device_placement=True)) as sess:\n",
    "        initializer = tf.global_variables_initializer()\n",
    "        initializer.run()\n",
    "        step = 0\n",
    "        #iterate through epochs\n",
    "        for epoch in range(params.num_epochs):\n",
    "            window_index = 0\n",
    "            #feed in each sliding context window\n",
    "            while window_index < params.vocab_size:\n",
    "                x_batch = []\n",
    "                y_batch = []\n",
    "                for batch in integer_batches:\n",
    "                    x_window = batch[window_index:window_index + params.window_size]\n",
    "                    y_targets = np.zeros(params.vocab_size)\n",
    "                    #update y_targets according to each new predicted word in the sliding window\n",
    "                    y_targets[batch[window_index + params.window_size]] = 1\n",
    "                    x_batch.append(x_window)\n",
    "                    y_batch.append(y_targets)\n",
    "                #run iteration of batches in the model\n",
    "                cost, perplexity, deez_nutz = sess.run([model.cost,model.perplexity, model.optimizer], feed_dict = {model._x:x_batch, model._y:y_batch})\n",
    "#                 if step % 1000 == 0:\n",
    "                perplexity_history.append(perplexity)\n",
    "                cost_history.append(cost)\n",
    "                window_index += 1\n",
    "                step += 1\n",
    "    return perplexity_history, cost_history"
   ]
  },
  {
   "cell_type": "markdown",
   "metadata": {},
   "source": [
    "## Brown Corpus"
   ]
  },
  {
   "cell_type": "code",
   "execution_count": 92,
   "metadata": {},
   "outputs": [],
   "source": [
    "file = open('Brown Corpus/bc_unbatched.pkl','rb')\n",
    "brown_batches = pickle.load(file)\n",
    "file.close()"
   ]
  },
  {
   "cell_type": "code",
   "execution_count": 93,
   "metadata": {},
   "outputs": [],
   "source": [
    "brown_vocab = set([tok for tok in brown_batches])"
   ]
  },
  {
   "cell_type": "code",
   "execution_count": 94,
   "metadata": {},
   "outputs": [],
   "source": [
    "# create train, validation, test\n",
    "brown_train = brown_batches[:800000]\n",
    "brown_validation = brown_batches[800000:1000000]\n",
    "brown_test = brown_batches[1000000:]"
   ]
  },
  {
   "cell_type": "code",
   "execution_count": 95,
   "metadata": {},
   "outputs": [],
   "source": [
    "def dict_maker(lst):\n",
    "    a = {val : idx + 1 for idx, val in enumerate(lst)}\n",
    "    return a"
   ]
  },
  {
   "cell_type": "code",
   "execution_count": 96,
   "metadata": {},
   "outputs": [],
   "source": [
    "brown_vocab_dicks_in_my_mouth = dict_maker(brown_vocab)"
   ]
  },
  {
   "cell_type": "code",
   "execution_count": 97,
   "metadata": {},
   "outputs": [],
   "source": [
    "brown_train_int = [brown_vocab_dicks_in_my_mouth[tok] for tok in brown_train]\n",
    "brown_val_int = [brown_vocab_dicks_in_my_mouth[tok] for tok in brown_validation]\n",
    "brown_test_int = [brown_vocab_dicks_in_my_mouth[tok] for tok in brown_test]"
   ]
  },
  {
   "cell_type": "code",
   "execution_count": 98,
   "metadata": {},
   "outputs": [],
   "source": [
    "# train on brown\n",
    "brown_train_batches_int = makeBatches(brown_train_int,30)\n",
    "brown_val_batches_int = makeBatches(brown_val_int,30)\n",
    "brown_test_batches_int = makeBatches(brown_test_int,30)"
   ]
  },
  {
   "cell_type": "code",
   "execution_count": 99,
   "metadata": {},
   "outputs": [],
   "source": [
    "brown_params = Parameters(brown_vocab_dicks_in_my_mouth)\n",
    "brown_model = Model(params=brown_params)"
   ]
  },
  {
   "cell_type": "code",
   "execution_count": null,
   "metadata": {},
   "outputs": [
    {
     "name": "stdout",
     "output_type": "stream",
     "text": [
      "CPU times: user 3 µs, sys: 2 µs, total: 5 µs\n",
      "Wall time: 7.15 µs\n",
      "Device mapping:\n",
      "/job:localhost/replica:0/task:0/device:XLA_CPU:0 -> device: XLA_CPU device\n",
      "\n"
     ]
    }
   ],
   "source": [
    "%time\n",
    "brown_train_perplexity_history, brown_train_cost_history = run_model(brown_model,brown_params,brown_train_batches_int)"
   ]
  },
  {
   "cell_type": "code",
   "execution_count": null,
   "metadata": {},
   "outputs": [],
   "source": []
  }
 ],
 "metadata": {
  "kernelspec": {
   "display_name": "Python 3",
   "language": "python",
   "name": "python3"
  },
  "language_info": {
   "codemirror_mode": {
    "name": "ipython",
    "version": 3
   },
   "file_extension": ".py",
   "mimetype": "text/x-python",
   "name": "python",
   "nbconvert_exporter": "python",
   "pygments_lexer": "ipython3",
   "version": "3.7.3"
  }
 },
 "nbformat": 4,
 "nbformat_minor": 2
}
