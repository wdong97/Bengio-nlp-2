{
 "cells": [
  {
   "cell_type": "markdown",
   "metadata": {},
   "source": [
    "# Quesiton 1 - Data Loading and Cleaning"
   ]
  },
  {
   "cell_type": "code",
   "execution_count": 20,
   "metadata": {},
   "outputs": [],
   "source": [
    "#get data to list\n",
    "def turnToList(string):  \n",
    "    f = open(string, 'r')\n",
    "    x = f.readlines()\n",
    "    #print(x)\n",
    "    articleVocab = x[0]\n",
    "    ls = articleVocab.split(\"', '\")\n",
    "    return ls"
   ]
  },
  {
   "cell_type": "code",
   "execution_count": 21,
   "metadata": {},
   "outputs": [],
   "source": [
    "training_data = turnToList(\"Data/group1.train.txt\")"
   ]
  },
  {
   "cell_type": "code",
   "execution_count": 22,
   "metadata": {},
   "outputs": [],
   "source": [
    "import math\n",
    "\n",
    "def makeBatches(data,batch_size):\n",
    "    cuts = len(data)/batch_size\n",
    "    cuts = math.ceil(cuts)\n",
    "    final_list = [data[i:i+cuts] for i in range(0,len(data),cuts)]\n",
    "    return final_list\n",
    "    "
   ]
  },
  {
   "cell_type": "code",
   "execution_count": 23,
   "metadata": {},
   "outputs": [],
   "source": [
    "bitches = makeBatches(training_data, 30)"
   ]
  },
  {
   "cell_type": "code",
   "execution_count": 24,
   "metadata": {},
   "outputs": [
    {
     "name": "stdout",
     "output_type": "stream",
     "text": [
      "156473\n"
     ]
    }
   ],
   "source": [
    "print(len(bitches[28]))"
   ]
  },
  {
   "cell_type": "code",
   "execution_count": 25,
   "metadata": {},
   "outputs": [],
   "source": [
    "def sliding_windows(batch,n):\n",
    "    window = [batch[i:i+n] for i in range(0,len(batch))]\n",
    "    return window"
   ]
  },
  {
   "cell_type": "code",
   "execution_count": 26,
   "metadata": {},
   "outputs": [],
   "source": [
    "batch1 = bitches[1]\n",
    "w1 = sliding_windows(batch1,5)\n",
    "batch2 = bitches[2]\n",
    "w2 = sliding_windows(batch2,5)"
   ]
  },
  {
   "cell_type": "code",
   "execution_count": 27,
   "metadata": {},
   "outputs": [
    {
     "name": "stdout",
     "output_type": "stream",
     "text": [
      "[['the', 'rich', '.', '</s>', '<s>'], ['rich', '.', '</s>', '<s>', 'By'], ['.', '</s>', '<s>', 'By', '2018'], ['</s>', '<s>', 'By', '2018', ','], ['<s>', 'By', '2018', ',', 'the'], ['By', '2018', ',', 'the', 'richest'], ['2018', ',', 'the', 'richest', '400'], [',', 'the', 'richest', '400', 'Americans'], ['the', 'richest', '400', 'Americans', 'paid'], ['richest', '400', 'Americans', 'paid', 'lower'], ['400', 'Americans', 'paid', 'lower', 'taxes'], ['Americans', 'paid', 'lower', 'taxes', 'as'], ['paid', 'lower', 'taxes', 'as', 'a'], ['lower', 'taxes', 'as', 'a', 'share'], ['taxes', 'as', 'a', 'share', 'of'], ['as', 'a', 'share', 'of', 'income'], ['a', 'share', 'of', 'income', 'than'], ['share', 'of', 'income', 'than', 'any'], ['of', 'income', 'than', 'any', 'other'], ['income', 'than', 'any', 'other', 'income'], ['than', 'any', 'other', 'income', 'group'], ['any', 'other', 'income', 'group', 'including'], ['other', 'income', 'group', 'including', 'the'], ['income', 'group', 'including', 'the', 'poorest'], ['group', 'including', 'the', 'poorest', 'Americans'], ['including', 'the', 'poorest', 'Americans', ','], ['the', 'poorest', 'Americans', ',', 'according'], ['poorest', 'Americans', ',', 'according', 'to'], ['Americans', ',', 'according', 'to', 'Berkeley'], [',', 'according', 'to', 'Berkeley', 'economists'], ['according', 'to', 'Berkeley', 'economists', 'Emmanuel'], ['to', 'Berkeley', 'economists', 'Emmanuel', 'Saez'], ['Berkeley', 'economists', 'Emmanuel', 'Saez', 'and'], ['economists', 'Emmanuel', 'Saez', 'and', 'Gabriel'], ['Emmanuel', 'Saez', 'and', 'Gabriel', 'Zucman'], ['Saez', 'and', 'Gabriel', 'Zucman', '.'], ['and', 'Gabriel', 'Zucman', '.', '</s>'], ['Gabriel', 'Zucman', '.', '</s>', '<s>'], ['Zucman', '.', '</s>', '<s>', 'The'], ['.', '</s>', '<s>', 'The', 'environmental'], ['</s>', '<s>', 'The', 'environmental', 'movement'], ['<s>', 'The', 'environmental', 'movement', ','], ['The', 'environmental', 'movement', ',', 'bipartisan'], ['environmental', 'movement', ',', 'bipartisan', 'at'], ['movement', ',', 'bipartisan', 'at', 'its'], [',', 'bipartisan', 'at', 'its', 'start'], ['bipartisan', 'at', 'its', 'start', 'in'], ['at', 'its', 'start', 'in', '1969'], ['its', 'start', 'in', '1969', ','], ['start', 'in', '1969', ',', 'was']]\n"
     ]
    }
   ],
   "source": [
    "print(w1[0:50])"
   ]
  },
  {
   "cell_type": "code",
   "execution_count": 28,
   "metadata": {},
   "outputs": [],
   "source": [
    "#question 1 output\n",
    "training_sequences = {}\n",
    "training_sequences['Batch 1'] = [w1[i] for i in range(0,3)]\n",
    "training_sequences['Batch 2'] = [w2[i] for i in range(0,3)]"
   ]
  },
  {
   "cell_type": "code",
   "execution_count": 29,
   "metadata": {},
   "outputs": [
    {
     "name": "stdout",
     "output_type": "stream",
     "text": [
      "{'Batch 1': [['the', 'rich', '.', '</s>', '<s>'], ['rich', '.', '</s>', '<s>', 'By'], ['.', '</s>', '<s>', 'By', '2018']], 'Batch 2': [['to', 'strike', 'Soleimani', ',', 'who'], ['strike', 'Soleimani', ',', 'who', 'was'], ['Soleimani', ',', 'who', 'was', 'visiting']]}\n"
     ]
    }
   ],
   "source": [
    "print(training_sequences)"
   ]
  },
  {
   "cell_type": "markdown",
   "metadata": {},
   "source": [
    "## Question 2 - Bengio Model"
   ]
  },
  {
   "cell_type": "code",
   "execution_count": 42,
   "metadata": {},
   "outputs": [
    {
     "name": "stdout",
     "output_type": "stream",
     "text": [
      "WARNING:tensorflow:From /Users/wdong/anaconda3/lib/python3.7/site-packages/tensorflow_core/python/compat/v2_compat.py:88: disable_resource_variables (from tensorflow.python.ops.variable_scope) is deprecated and will be removed in a future version.\n",
      "Instructions for updating:\n",
      "non-resource variables are not supported in the long term\n"
     ]
    }
   ],
   "source": [
    "from __future__ import absolute_import\n",
    "from __future__ import division\n",
    "from __future__ import print_function\n",
    "\n",
    "import numpy as np\n",
    "# import tensorflow as tf\n",
    "import tensorflow.compat.v1 as tf\n",
    "tf.disable_v2_behavior()\n",
    "import random\n",
    "import math\n",
    "import time"
   ]
  },
  {
   "cell_type": "code",
   "execution_count": 43,
   "metadata": {},
   "outputs": [],
   "source": [
    "#bring in pickle file for vocab dict\n",
    "import pickle\n",
    "\n",
    "file = open('Data/trainingDictPickle1_group1.pkl','rb')\n",
    "vocab_dict = pickle.load(file)\n",
    "file.close()"
   ]
  },
  {
   "cell_type": "code",
   "execution_count": 44,
   "metadata": {},
   "outputs": [],
   "source": [
    "class Parameters():\n",
    "    window_size = 5\n",
    "    num_batches = 30\n",
    "\n",
    "    vocab_size = len(vocab_dict)\n",
    "\n",
    "    hidden_units = 50\n",
    "    embeddings_dim = 60\n",
    "    num_epochs = 20\n",
    "\n",
    "    learning_rate = 0.5\n",
    "\n",
    "    gpu_mem = 0.25\n",
    "\n",
    "    tf_precision = tf.float32\n",
    "    np_precision = np.float32\n",
    "\n",
    "    init_scale = 0.5\n",
    "    max_grad = 10.0"
   ]
  },
  {
   "cell_type": "code",
   "execution_count": 62,
   "metadata": {},
   "outputs": [],
   "source": [
    "class Model(object):\n",
    "    def __init__(self, params=Parameters()):\n",
    "        #initialize input and output variables\n",
    "        self._y = tf.placeholder(dtype=params.tf_precision,shape=(params.num_batches, params.vocab_size),name=\"Y\")\n",
    "        self._x = tf.placeholder(tf.int32,shape=(params.num_batches, params.window_size),name=\"X\")\n",
    "        #word features/embeddings\n",
    "        self.C = tf.Variable(tf.truncated_normal(shape=(params.vocab_size, params.embeddings_dim),mean=-1,stddev=-1),dtype=params.tf_precision,name=\"C\")\n",
    "        #projection to output weight\n",
    "        self.W = tf.Variable(tf.random_normal(shape=(params.vocab_size, (params.window_size) * params.embeddings_dim)),dtype=params.tf_precision,name=\"W\")\n",
    "        #hidden layer weight and bias\n",
    "        self.H = tf.Variable(tf.random_normal(shape=(params.hidden_units, (params.window_size) * params.embeddings_dim)),dtype=params.tf_precision,name=\"H\")\n",
    "        self.d = tf.Variable(tf.random_normal(shape=(params.hidden_units,)),dtype=params.tf_precision,name=\"d\")\n",
    "        #hidden layer to output weight and bias\n",
    "        self.U = tf.Variable(tf.random_normal((params.vocab_size, params.hidden_units)),name=\"U\",dtype=params.tf_precision)\n",
    "        self.b = tf.Variable(tf.random_normal(shape=(params.vocab_size, )),dtype=params.tf_precision,name=\"b\")\n",
    "        #do calculations\n",
    "        # y = b + Wx + Utanh(d + Hx)\n",
    "        # x = (C(w(t-1)), C(w(t-2), ..., C(w(t-n+1))), n == window_size\n",
    "        with tf.name_scope('Projection_Layer'):\n",
    "            x  = tf.nn.embedding_lookup(self.C, self._x) # (batch_size, window_size-1, emb_dim)\n",
    "            x  = tf.reshape(x, shape=(batch_size, (params.window_size) * params.embeddings_dim))\n",
    "        with tf.name_scope('Hidden_Layer'):\n",
    "            Hx = tf.matmul(x, tf.transpose(self.H)) # (batch_size, hidden_size)\n",
    "            o  = tf.add(self.d, Hx) # (batch_size, hidden_size)\n",
    "            a  = tf.nn.tanh(o)  # (batch_size, hidden_size)\n",
    "        with tf.name_scope('Output_Layer'):\n",
    "            Ua = tf.matmul(a, tf.transpose(self.U)) # (batch_size, vocab_size)\n",
    "            Wx = tf.matmul(x, tf.transpose(self.W)) # (batch_size, vocab_size)\n",
    "            y_hat  = tf.nn.softmax(tf.clip_by_value(tf.add(self.b, tf.add(Wx, Ua)), 0.0, 10)) # (batch_size, vocab_size)\n",
    "    #2 different ways to minimize loss/cost\n",
    "        with tf.name_scope('Cost'):\n",
    "            self.cost = tf.reduct_mean(tf.nn.softmax_cross_entropy_with_logits_v2(labels=self._y,logits=y_hat))\n",
    "            self.perplexity = tf.exp(self.cost)\n",
    "        self.optimizer = tf.train.GradientDescentOptimizer(params.learning_rate).minimize(self.cost)\n",
    "    #loss function defined from github repo\n",
    "    '''\n",
    "        with tf.name_scope('Loss'):\n",
    "            onehot_tgt = tf.one_hot(tf.squeeze(self._y), params.vocab_size)  # (batch_size, vocab_size)\n",
    "            loss = -1 * tf.reduce_mean(tf.reduce_sum(tf.log(y) * onehot_tgt, 1)) # 乘 -1 -> maximize loss\n",
    "            print(loss)\n",
    "        \n",
    "        optimizer = tf.train.AdagradOptimizer(params.learning_rate).minimize(loss)\n",
    "        '''\n",
    "\n"
   ]
  },
  {
   "cell_type": "code",
   "execution_count": 47,
   "metadata": {},
   "outputs": [
    {
     "ename": "SyntaxError",
     "evalue": "invalid syntax (<ipython-input-47-a776ab5578e3>, line 1)",
     "output_type": "error",
     "traceback": [
      "\u001b[0;36m  File \u001b[0;32m\"<ipython-input-47-a776ab5578e3>\"\u001b[0;36m, line \u001b[0;32m1\u001b[0m\n\u001b[0;31m    def run_model()\u001b[0m\n\u001b[0m                   ^\u001b[0m\n\u001b[0;31mSyntaxError\u001b[0m\u001b[0;31m:\u001b[0m invalid syntax\n"
     ]
    }
   ],
   "source": [
    "def run_model(model,train_batch,validation_batch):\n",
    "    #initialize and do GPU stuff\n",
    "    gpu_options = tf.GPUOptions(per_process_gpu_memory_fraction=0.8)\n",
    "    with tf.Session(config=tf.ConfigProto(gpu_options=gpu_options, log_device_placement=True)) as sess:\n",
    "        initializer = tf.global_variables_initializer()\n",
    "        initializer.run()\n",
    "        step = 0\n",
    "        avg_loss = 0\n",
    "        for epoch in range(params.num_epochs):\n",
    "            window = 0\n",
    "            while window < params.vocab_size:\n",
    "                \n",
    "                for x_batch, y_batch in zip(train_batch,validation_batch):\n",
    "                    if len(x_batch) != batch_size:\n",
    "                        continue\n",
    "                    feed_dict = {input_words: x_batch, output_word: y_batch}\n",
    "                    fetches = [loss, optimizer]\n",
    "                    Loss, _ = sess.run(fetches, feed_dict)\n",
    "                    avg_loss += Loss\n",
    "                    if step % 100 == 0:\n",
    "                        print('Step {}, Loss: {}'.format(step, avg_loss / 100))\n",
    "                        avg_loss = 0\n",
    "\n",
    "                    step += 1\n",
    "\n",
    "        print('Training Done.')\n",
    "        word_embedding = C.eval()"
   ]
  },
  {
   "cell_type": "code",
   "execution_count": null,
   "metadata": {},
   "outputs": [],
   "source": []
  }
 ],
 "metadata": {
  "kernelspec": {
   "display_name": "Python 3",
   "language": "python",
   "name": "python3"
  },
  "language_info": {
   "codemirror_mode": {
    "name": "ipython",
    "version": 3
   },
   "file_extension": ".py",
   "mimetype": "text/x-python",
   "name": "python",
   "nbconvert_exporter": "python",
   "pygments_lexer": "ipython3",
   "version": "3.7.3"
  }
 },
 "nbformat": 4,
 "nbformat_minor": 2
}
