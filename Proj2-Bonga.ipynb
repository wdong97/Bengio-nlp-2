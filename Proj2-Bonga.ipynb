{
 "cells": [
  {
   "cell_type": "code",
   "execution_count": 3,
   "metadata": {},
   "outputs": [],
   "source": [
    "#get data to list\n",
    "def turnToList(string):  \n",
    "    f = open(string, 'r')\n",
    "    x = f.readlines()\n",
    "    #print(x)\n",
    "    articleVocab = x[0]\n",
    "    ls = articleVocab.split(\"', '\")\n",
    "    return ls"
   ]
  },
  {
   "cell_type": "code",
   "execution_count": 4,
   "metadata": {},
   "outputs": [],
   "source": [
    "training_data = turnToList(\"Data/group1.train.txt\")"
   ]
  },
  {
   "cell_type": "code",
   "execution_count": 5,
   "metadata": {},
   "outputs": [],
   "source": [
    "import math\n",
    "\n",
    "def makeBatches(data,batch_size):\n",
    "    cuts = len(data)/batch_size\n",
    "    cuts = math.ceil(cuts)\n",
    "    final_list = [data[i:i+cuts] for i in range(0,len(data),cuts)]\n",
    "    return final_list\n",
    "    "
   ]
  },
  {
   "cell_type": "code",
   "execution_count": 6,
   "metadata": {},
   "outputs": [],
   "source": [
    "bitches = makeBatches(training_data, 30)"
   ]
  },
  {
   "cell_type": "code",
   "execution_count": 7,
   "metadata": {},
   "outputs": [
    {
     "name": "stdout",
     "output_type": "stream",
     "text": [
      "156473\n"
     ]
    }
   ],
   "source": [
    "print(len(bitches[28]))"
   ]
  },
  {
   "cell_type": "code",
   "execution_count": 8,
   "metadata": {},
   "outputs": [],
   "source": [
    "def sliding_windows(batch,n):\n",
    "    window = [batch[i:i+n] for i in range(0,len(batch))]\n",
    "    return window"
   ]
  },
  {
   "cell_type": "code",
   "execution_count": 9,
   "metadata": {},
   "outputs": [],
   "source": [
    "batch1 = bitches[1]\n",
    "w1 = sliding_windows(batch1,5)\n",
    "batch2 = bitches[2]\n",
    "w2 = sliding_windows(batch2,5)"
   ]
  },
  {
   "cell_type": "code",
   "execution_count": 10,
   "metadata": {
    "collapsed": true
   },
   "outputs": [
    {
     "name": "stdout",
     "output_type": "stream",
     "text": [
      "[['the', 'rich', '.', '</s>', '<s>'], ['rich', '.', '</s>', '<s>', 'By'], ['.', '</s>', '<s>', 'By', '2018'], ['</s>', '<s>', 'By', '2018', ','], ['<s>', 'By', '2018', ',', 'the'], ['By', '2018', ',', 'the', 'richest'], ['2018', ',', 'the', 'richest', '400'], [',', 'the', 'richest', '400', 'Americans'], ['the', 'richest', '400', 'Americans', 'paid'], ['richest', '400', 'Americans', 'paid', 'lower'], ['400', 'Americans', 'paid', 'lower', 'taxes'], ['Americans', 'paid', 'lower', 'taxes', 'as'], ['paid', 'lower', 'taxes', 'as', 'a'], ['lower', 'taxes', 'as', 'a', 'share'], ['taxes', 'as', 'a', 'share', 'of'], ['as', 'a', 'share', 'of', 'income'], ['a', 'share', 'of', 'income', 'than'], ['share', 'of', 'income', 'than', 'any'], ['of', 'income', 'than', 'any', 'other'], ['income', 'than', 'any', 'other', 'income'], ['than', 'any', 'other', 'income', 'group'], ['any', 'other', 'income', 'group', 'including'], ['other', 'income', 'group', 'including', 'the'], ['income', 'group', 'including', 'the', 'poorest'], ['group', 'including', 'the', 'poorest', 'Americans'], ['including', 'the', 'poorest', 'Americans', ','], ['the', 'poorest', 'Americans', ',', 'according'], ['poorest', 'Americans', ',', 'according', 'to'], ['Americans', ',', 'according', 'to', 'Berkeley'], [',', 'according', 'to', 'Berkeley', 'economists'], ['according', 'to', 'Berkeley', 'economists', 'Emmanuel'], ['to', 'Berkeley', 'economists', 'Emmanuel', 'Saez'], ['Berkeley', 'economists', 'Emmanuel', 'Saez', 'and'], ['economists', 'Emmanuel', 'Saez', 'and', 'Gabriel'], ['Emmanuel', 'Saez', 'and', 'Gabriel', 'Zucman'], ['Saez', 'and', 'Gabriel', 'Zucman', '.'], ['and', 'Gabriel', 'Zucman', '.', '</s>'], ['Gabriel', 'Zucman', '.', '</s>', '<s>'], ['Zucman', '.', '</s>', '<s>', 'The'], ['.', '</s>', '<s>', 'The', 'environmental'], ['</s>', '<s>', 'The', 'environmental', 'movement'], ['<s>', 'The', 'environmental', 'movement', ','], ['The', 'environmental', 'movement', ',', 'bipartisan'], ['environmental', 'movement', ',', 'bipartisan', 'at'], ['movement', ',', 'bipartisan', 'at', 'its'], [',', 'bipartisan', 'at', 'its', 'start'], ['bipartisan', 'at', 'its', 'start', 'in'], ['at', 'its', 'start', 'in', '1969'], ['its', 'start', 'in', '1969', ','], ['start', 'in', '1969', ',', 'was']]\n"
     ]
    }
   ],
   "source": [
    "print(w1[0:50])"
   ]
  },
  {
   "cell_type": "code",
   "execution_count": 11,
   "metadata": {},
   "outputs": [],
   "source": [
    "#question 1 output\n",
    "training_sequences = {}\n",
    "training_sequences['Batch 1'] = [w1[i] for i in range(0,3)]\n",
    "training_sequences['Batch 2'] = [w2[i] for i in range(0,3)]"
   ]
  },
  {
   "cell_type": "code",
   "execution_count": 12,
   "metadata": {},
   "outputs": [
    {
     "name": "stdout",
     "output_type": "stream",
     "text": [
      "{'Batch 1': [['the', 'rich', '.', '</s>', '<s>'], ['rich', '.', '</s>', '<s>', 'By'], ['.', '</s>', '<s>', 'By', '2018']], 'Batch 2': [['to', 'strike', 'Soleimani', ',', 'who'], ['strike', 'Soleimani', ',', 'who', 'was'], ['Soleimani', ',', 'who', 'was', 'visiting']]}\n"
     ]
    }
   ],
   "source": [
    "print(training_sequences)"
   ]
  },
  {
   "cell_type": "markdown",
   "metadata": {},
   "source": [
    "## Question 2 - Bengio Model Update Training Model\n"
   ]
  },
  {
   "cell_type": "markdown",
   "metadata": {},
   "source": [
    "***Load Data in proper Formatting***"
   ]
  },
  {
   "cell_type": "code",
   "execution_count": 1,
   "metadata": {},
   "outputs": [],
   "source": [
    "from __future__ import absolute_import\n",
    "from __future__ import division\n",
    "from __future__ import print_function\n",
    "\n",
    "import numpy as np\n",
    "import tensorflow as tf\n",
    "import random\n",
    "import math\n",
    "import time"
   ]
  },
  {
   "cell_type": "markdown",
   "metadata": {},
   "source": [
    "***Set Parameters***"
   ]
  },
  {
   "cell_type": "code",
   "execution_count": 2,
   "metadata": {},
   "outputs": [],
   "source": [
    "import pickle\n",
    "file = open('Brown Corpus/bc_unbatched.pkl','rb')\n",
    "vocab_dict = pickle.load(file)"
   ]
  },
  {
   "cell_type": "code",
   "execution_count": 3,
   "metadata": {},
   "outputs": [],
   "source": [
    "class Parameters():\n",
    "    window_size = 5\n",
    "    num_batches = 30\n",
    "\n",
    "    vocab_size = len(vocab_dict)\n",
    "    batch_size = int(vocab_size/num_batches)\n",
    "    hidden_units = 50\n",
    "    embeddings_dim = 60\n",
    "    num_epochs = 20\n",
    "\n",
    "    learning_rate = 0.5\n",
    "    context_window = 5\n",
    "    gpu_mem = 0.25\n",
    "\n",
    "    tf_precision = tf.float32\n",
    "    np_precision = np.float32\n",
    "\n",
    "    init_scale = 0.5\n",
    "    max_grad = 10.0"
   ]
  },
  {
   "cell_type": "code",
   "execution_count": 4,
   "metadata": {},
   "outputs": [],
   "source": [
    "from nltk.tokenize import word_tokenize\n",
    "from collections import Counter\n",
    "import numpy as np\n",
    "def load(filepath, window_size, vocab_size=None):\n",
    "\n",
    "    words = []\n",
    "    with open(filepath, 'r', encoding='utf8') as file:\n",
    "        words = word_tokenize(file.readline())    \n",
    "\n",
    "    x_train, y_train = [], []\n",
    "    for i in range(len(words) - window_size + 1):\n",
    "        x_train.append(words[i: i + window_size - 1])\n",
    "        y_train.append(words[i +  window_size - 1])\n",
    "    \n",
    "    vocab = [word[0] for word in Counter(words).most_common(vocab_size)]\n",
    "    word2id = { vocab[i]: i for i in range(len(vocab)) }\n",
    "    \n",
    "    return np.array(x_train), np.array(y_train)[:,None], np.array(vocab), word2id\n",
    "\n",
    "def load_zh(filepath, window_size, vocab_size=None):\n",
    "\n",
    "    words = []\n",
    "    with open(filepath, 'r', encoding='utf8') as file:\n",
    "        for line in file:\n",
    "            words += word_tokenize(line.strip())\n",
    "        \n",
    "\n",
    "    x_train, y_train = [], []\n",
    "    for i in range(len(words) - window_size + 1):\n",
    "        x_train.append(words[i: i + window_size - 1])\n",
    "        y_train.append(words[i +  window_size - 1])\n",
    "    \n",
    "    vocab = [word[0] for word in Counter(words).most_common(vocab_size)]\n",
    "    word2id = { vocab[i]: i for i in range(len(vocab)) }\n",
    "    \n",
    "    return np.array(x_train), np.array(y_train)[:,None], np.array(vocab), word2id\n",
    "def convert_to_id(x_train, y_train, vocab):\n",
    "    \n",
    "    word_to_id = {}\n",
    "    for i, vocab in enumerate(vocab):\n",
    "        word_to_id[vocab] = i\n",
    "        \n",
    "    for i in range(len(x_train)):\n",
    "        x_train[i] = [word_to_id[word] for word in x_train[i]]\n",
    "        y_train[i] = word_to_id[y_train[i][0]]\n",
    "        \n",
    "    return x_train.astype(int), y_train.astype(int)\n",
    "\n",
    "\n"
   ]
  },
  {
   "cell_type": "markdown",
   "metadata": {},
   "source": [
    "***Load Data from pickle file***"
   ]
  },
  {
   "cell_type": "code",
   "execution_count": 5,
   "metadata": {},
   "outputs": [
    {
     "name": "stdout",
     "output_type": "stream",
     "text": [
      "vocab_size: 60503\n",
      "Length: 1176506\n",
      "Number of batch: 4.999983000569481\n"
     ]
    }
   ],
   "source": [
    "from collections import Counter\n",
    "import pickle\n",
    "p = Parameters()\n",
    "\n",
    "window_size = p.window_size\n",
    "vocab_size = p.vocab_size\n",
    "x_raw, y_raw, vocab, word2id = load_zh('Brown Corpus/brown_tokenized.txt', window_size, vocab_size)\n",
    "vocab_size = len(vocab)\n",
    "print('vocab_size: {}'.format(vocab_size))\n",
    "x_train, y_train = convert_to_id(x_raw, y_raw, vocab)\n",
    "print('Length: {}'.format(len(x_train)))\n",
    "print('Number of batch: {}'.format(len(x_train) / p.batch_size))"
   ]
  },
  {
   "cell_type": "code",
   "execution_count": 6,
   "metadata": {},
   "outputs": [],
   "source": [
    "#step1\n",
    "# #bring in pickle file for vocab dict\n",
    "# import pickle\n",
    "\n",
    "# file = open('Data/trainingDictPickle1.pkl','rb')\n",
    "# vocab_dict = pickle.load(file)\n",
    "# file.close()"
   ]
  },
  {
   "cell_type": "markdown",
   "metadata": {},
   "source": [
    "***Initiliaze model with parameters to use in training***"
   ]
  },
  {
   "cell_type": "code",
   "execution_count": 7,
   "metadata": {},
   "outputs": [],
   "source": [
    "class Model(object):\n",
    "    def __init__(self, params=Parameters()):\n",
    "        #x,y\n",
    "        self._x = tf.placeholder(dtype=tf.int32, shape=(params.batch_size, params.window_size-1))\n",
    "        self._y = tf.placeholder(dtype=tf.int32, shape=(params.batch_size, 1))\n",
    "\n",
    "        # C\n",
    "        self.C = tf.Variable(tf.truncated_normal(shape=(params.vocab_size, params.embeddings_dim), mean=-1, stddev=-1), name='word_embedding')\n",
    "\n",
    "        # Hidden Layer Weight && Bias\n",
    "        self.H = tf.Variable(tf.random_normal(shape=(params.hidden_units, (params.window_size - 1 ) * params.embeddings_dim)))\n",
    "        self.d = tf.Variable(tf.random_normal(shape=(params.hidden_units, )))\n",
    "\n",
    "        # Hidden-to-Output Weight && Bias\n",
    "        self.U = tf.Variable(tf.random_normal(shape=(params.vocab_size, params.hidden_units)))\n",
    "        self.b = tf.Variable(tf.random_normal(shape=(params.vocab_size, )))\n",
    "\n",
    "        # Projection-to-Output Weight\n",
    "        self.W = tf.Variable(tf.random_normal(shape=(params.vocab_size, (params.window_size - 1) * params.embeddings_dim)))\n",
    "\n",
    "        #completed layout\n",
    "\n",
    "\n",
    "        ###### y = b + Wx + Utanh(d + Hx) #####\n",
    "\n",
    "        # x = (C(w(t-1)), C(w(t-2), ..., C(w(t-n+1))), n == window_size\n",
    "        with tf.name_scope('Projection_Layer'):\n",
    "            x  = tf.nn.embedding_lookup(self.C, self._x) # (batch_size, window_size-1, emb_dim)\n",
    "            x  = tf.reshape(x, shape=(params.batch_size, (params.window_size - 1) * params.embeddings_dim))\n",
    "\n",
    "        with tf.name_scope('Hidden_Layer'):\n",
    "            Hx = tf.matmul(x, tf.transpose(self.H)) # (batch_size, hidden_size)\n",
    "            o  = tf.add(self.d, Hx) # (batch_size, hidden_size)\n",
    "            a  = tf.nn.tanh(o)  # (batch_size, hidden_size)\n",
    "            \n",
    "        with tf.name_scope('Output_Layer'):\n",
    "            Ua = tf.matmul(a, tf.transpose(self.U)) # (batch_size, vocab_size)\n",
    "            Wx = tf.matmul(x, tf.transpose(self.W)) # (batch_size, vocab_size)\n",
    "            y_hat  = tf.nn.softmax(tf.clip_by_value(tf.add(self.b, tf.add(Wx, Ua)), 0.0, 10)) # (batch_size, vocab_size)\n",
    "            \n",
    "\n",
    "        with tf.name_scope('Loss'):\n",
    "            onehot_tgt = tf.one_hot(tf.squeeze(self._y), params.vocab_size)  # (batch_size, vocab_size)\n",
    "            self.loss = -1 * tf.reduce_mean(tf.reduce_sum(tf.log(y_hat) * onehot_tgt, 1)) # 乘 -1 -> maximize loss\n",
    "            self.perplexity = tf.exp(self.loss)\n",
    "        self.optimizer = tf.train.AdagradOptimizer(params.learning_rate).minimize(self.loss) \n",
    "\n",
    " "
   ]
  },
  {
   "cell_type": "markdown",
   "metadata": {},
   "source": [
    "***Helper function to train from batch to batch***"
   ]
  },
  {
   "cell_type": "code",
   "execution_count": 8,
   "metadata": {},
   "outputs": [],
   "source": [
    "#helper functions for training\n",
    "\n",
    "#get next batch\n",
    "\n",
    "def nxt(x_train, y_train, batch_size):\n",
    "    \n",
    "    num_batch = len(x_train) // batch_size + 1\n",
    "    for n in range(num_batch):        \n",
    "        offset = n * batch_size\n",
    "        x_batch = x_train[offset: offset + batch_size]\n",
    "        y_batch = y_train[offset: offset + batch_size]\n",
    "        \n",
    "        yield x_batch, y_batch"
   ]
  },
  {
   "cell_type": "markdown",
   "metadata": {},
   "source": [
    "### Train Model\n",
    "- x and y are set by splitting data before with split helper function\n",
    "- vocab is a unique vocab list of the corpus\n",
    "- model tunes for cost"
   ]
  },
  {
   "cell_type": "code",
   "execution_count": 9,
   "metadata": {},
   "outputs": [],
   "source": [
    "def train(x,y,vocab):\n",
    "    params = Parameters()\n",
    "    \n",
    "    epoch_size = params.num_epochs\n",
    "    batch_size = params.batch_size\n",
    "    x_train = x\n",
    "    y_train = y\n",
    "    modl = Model()\n",
    "    optimizer = modl.optimizer\n",
    "    loss = modl.loss\n",
    "    print('Length: {}'.format(len(x_train)))\n",
    "    print('Number of batch: {}'.format(len(x_train) / batch_size))\n",
    "    gpu_options = tf.GPUOptions(per_process_gpu_memory_fraction=0.8)\n",
    "    with tf.Session(config=tf.ConfigProto(gpu_options=gpu_options, log_device_placement=True)) as sess:\n",
    "        initializer = tf.global_variables_initializer()\n",
    "        initializer.run()\n",
    "\n",
    "        step = 0\n",
    "        avg_cost = 0\n",
    "        for epoch in range(epoch_size):\n",
    "            for x_batch, y_batch in nxt(x_train, y_train, batch_size):\n",
    "                \n",
    "                if len(x_batch) != batch_size:\n",
    "                    print(len(x_batch))\n",
    "                    print((batch_size))\n",
    "                   \n",
    "                    continue\n",
    "                #train by context windows\n",
    "                contextCheck = 0\n",
    "                xContext = []\n",
    "                yContext = []\n",
    "                feed_dict = {modl._x: x_batch, modl._y: y_batch}            \n",
    "                loss, perp, ____ = sess.run([modl.loss,modl.perplexity, modl.optimizer], feed_dict = feed_dict)\n",
    "                #fetches = [loss, modl.optimizer]\n",
    "                print('loss: {}'.format((loss)))\n",
    "                print('Perplexity: {}'.format((perp)))\n",
    "                avg_loss += loss\n",
    "                \n",
    "                #perplexity_history.append(perplexity)\n",
    "                #cost_history.append(cost)\n",
    "                \n",
    "                step += 1\n",
    "                \n",
    "\n",
    "        print('Training Done.')\n",
    "        word_embedding = modl.C.eval()\n",
    "        print(\"---------- Word Embdeddings -------------\")\n",
    "        print(word_embedding)\n",
    "        "
   ]
  },
  {
   "cell_type": "markdown",
   "metadata": {},
   "source": [
    "***Open unbated brown data and turn into array of integers like previous corpus***"
   ]
  },
  {
   "cell_type": "code",
   "execution_count": 10,
   "metadata": {},
   "outputs": [],
   "source": [
    "# turn unbatched brown data into dictionary then into integer filled array\n",
    "diks_int = {}\n",
    "def dict_maker(lst):\n",
    "    a = {val : idx + 1 for idx, val in enumerate(lst)}\n",
    "    return a\n",
    "uniqDict = set([token for token in vocab_dict])\n",
    "unique_dictionary = dict_maker(uniqDict)\n",
    "def integer_representations(vocab_dictinary,vocab_dict):\n",
    "    integer_rep = []\n",
    "    for token in vocab_dict:\n",
    "        try: \n",
    "            vocab_dictinary[token] \n",
    "            integer_rep.append(vocab_dictinary[token])\n",
    "        except:\n",
    "            integer_rep.append(\"<unk>\")\n",
    "    return integer_rep\n",
    "\n",
    "uniqList = integer_representations(unique_dictionary,vocab_dict)\n"
   ]
  },
  {
   "cell_type": "markdown",
   "metadata": {},
   "source": [
    "***Split and Train the data using an 80,20 training split***"
   ]
  },
  {
   "cell_type": "code",
   "execution_count": null,
   "metadata": {
    "scrolled": true
   },
   "outputs": [
    {
     "name": "stdout",
     "output_type": "stream",
     "text": [
      "WARNING:tensorflow:From /Users/siyabongamatchaba/anaconda3/lib/python3.7/site-packages/tensorflow_core/python/ops/math_grad.py:1424: where (from tensorflow.python.ops.array_ops) is deprecated and will be removed in a future version.\n",
      "Instructions for updating:\n",
      "Use tf.where in 2.0, which has the same broadcast rule as np.where\n",
      "WARNING:tensorflow:From /Users/siyabongamatchaba/anaconda3/lib/python3.7/site-packages/tensorflow_core/python/training/adagrad.py:76: calling Constant.__init__ (from tensorflow.python.ops.init_ops) with dtype is deprecated and will be removed in a future version.\n",
      "Instructions for updating:\n",
      "Call initializer instance with the dtype argument instead of passing it to the constructor\n",
      "Length: 1176506\n",
      "Number of batch: 4.999983000569481\n",
      "Device mapping:\n",
      "/job:localhost/replica:0/task:0/device:XLA_CPU:0 -> device: XLA_CPU device\n",
      "\n"
     ]
    }
   ],
   "source": [
    "#split and train the data\n",
    "def splitData(data):\n",
    "    st = len(data) * .8\n",
    "    x = data[:int(st)]\n",
    "    y = data[int(st):len(data)]\n",
    "    vocabDict = set([token for token in vocab_dict])\n",
    "    return x,y,vocabDict\n",
    "\n",
    "xRaw,yRaw,vDict = splitData(uniqList)\n",
    "train(x_train,y_train,vDict)\n"
   ]
  },
  {
   "cell_type": "code",
   "execution_count": null,
   "metadata": {},
   "outputs": [],
   "source": [
    "    "
   ]
  }
 ],
 "metadata": {
  "kernelspec": {
   "display_name": "Python 3",
   "language": "python",
   "name": "python3"
  },
  "language_info": {
   "codemirror_mode": {
    "name": "ipython",
    "version": 3
   },
   "file_extension": ".py",
   "mimetype": "text/x-python",
   "name": "python",
   "nbconvert_exporter": "python",
   "pygments_lexer": "ipython3",
   "version": "3.7.3"
  }
 },
 "nbformat": 4,
 "nbformat_minor": 2
}
